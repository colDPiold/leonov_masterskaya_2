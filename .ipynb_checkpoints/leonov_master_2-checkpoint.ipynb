{
 "cells": [
  {
   "cell_type": "markdown",
   "id": "cac7dd29",
   "metadata": {
    "toc": true
   },
   "source": [
    "<h1>Table of Contents<span class=\"tocSkip\"></span></h1>\n",
    "<div class=\"toc\"><ul class=\"toc-item\"></ul></div>"
   ]
  },
  {
   "cell_type": "code",
   "execution_count": null,
   "id": "d61063ac",
   "metadata": {},
   "outputs": [],
   "source": [
    "import pandas as pd\n",
    "import numpy as np\n",
    "import faiss\n",
    "from tqdm.notebook import tqdm\n"
   ]
  },
  {
   "cell_type": "code",
   "execution_count": null,
   "id": "650dc3d3",
   "metadata": {},
   "outputs": [],
   "source": [
    "df_base = pd.read_csv(\"base.csv\", index_col=0)\n",
    "df_base.head()"
   ]
  },
  {
   "cell_type": "code",
   "execution_count": null,
   "id": "e1c25c22",
   "metadata": {},
   "outputs": [],
   "source": [
    "df_base.shape"
   ]
  },
  {
   "cell_type": "markdown",
   "id": "31af9885",
   "metadata": {},
   "source": [
    "Baseline"
   ]
  },
  {
   "cell_type": "markdown",
   "id": "8d57c14e",
   "metadata": {},
   "source": [
    "Create index"
   ]
  },
  {
   "cell_type": "code",
   "execution_count": null,
   "id": "848bf9fa",
   "metadata": {},
   "outputs": [],
   "source": [
    "dims = df_base.shape[1]\n",
    "n_cells = 1\n",
    "# how many cells\n",
    "quantizer = faiss.IndexFlatL2(dims)\n",
    "idx_l2 = faiss.IndexIVFFlat(quantizer, dims, n_cells)"
   ]
  },
  {
   "cell_type": "code",
   "execution_count": null,
   "id": "fecf2990",
   "metadata": {},
   "outputs": [],
   "source": [
    "idx_l2.train(np.ascontiguousarray(df_base.values[:50000,:]).astype('float32'))"
   ]
  },
  {
   "cell_type": "code",
   "execution_count": null,
   "id": "285ab4f1",
   "metadata": {},
   "outputs": [],
   "source": [
    "i_1 = []\n",
    "for i in range(0,9):\n",
    "    i_1.append(i*34269)\n",
    "    \n",
    "print(i_1)"
   ]
  },
  {
   "cell_type": "code",
   "execution_count": null,
   "id": "c7a37890",
   "metadata": {
    "scrolled": true
   },
   "outputs": [],
   "source": [
    "i_2 = []\n",
    "for i in range(1,10):\n",
    "    a = i*34269 - 1\n",
    "    i_2.append(a)\n",
    "    \n",
    "i_2[8] = 616842\n",
    "print(i_2)"
   ]
  },
  {
   "cell_type": "code",
   "execution_count": null,
   "id": "587c83ec",
   "metadata": {},
   "outputs": [],
   "source": [
    "for i in (0,8):\n",
    "    idx_l2.add(np.ascontiguousarray(df_base.values[i_1[i]:i_2[i], :]).astype('float32'))"
   ]
  },
  {
   "cell_type": "code",
   "execution_count": null,
   "id": "8fc3c583",
   "metadata": {},
   "outputs": [],
   "source": [
    "base_index = {k: v for k, v in enumerate(df_base.index.to_list())}\n",
    "\n",
    "#del df_base"
   ]
  },
  {
   "cell_type": "markdown",
   "id": "02e29737",
   "metadata": {},
   "source": [
    "Train"
   ]
  },
  {
   "cell_type": "code",
   "execution_count": null,
   "id": "bdd95bae",
   "metadata": {},
   "outputs": [],
   "source": [
    "df_train = pd.read_csv(\"train.csv\", index_col=0)\n",
    "df_train.head()"
   ]
  },
  {
   "cell_type": "code",
   "execution_count": null,
   "id": "85f005b9",
   "metadata": {},
   "outputs": [],
   "source": [
    "targets = df_train[\"Target\"]\n",
    "df_train.drop(\"Target\", axis=1, inplace=True)"
   ]
  },
  {
   "cell_type": "code",
   "execution_count": null,
   "id": "9ff9e0e1",
   "metadata": {},
   "outputs": [],
   "source": [
    "r, idx = idx_l2.search(np.ascontiguousarray(df_train.values).astype('float32'), 5)"
   ]
  },
  {
   "cell_type": "code",
   "execution_count": null,
   "id": "9ef28245",
   "metadata": {},
   "outputs": [],
   "source": [
    "acc = 0\n",
    "for target, el in zip(targets.values.tolist(), idx.tolist()):\n",
    "    acc += int(target in [base_index[r] for r in el])\n",
    "\n",
    "print(100 * acc / len(idx))"
   ]
  },
  {
   "cell_type": "code",
   "execution_count": null,
   "id": "194b4247",
   "metadata": {},
   "outputs": [],
   "source": []
  }
 ],
 "metadata": {
  "kernelspec": {
   "display_name": "Python 3 (ipykernel)",
   "language": "python",
   "name": "python3"
  },
  "language_info": {
   "codemirror_mode": {
    "name": "ipython",
    "version": 3
   },
   "file_extension": ".py",
   "mimetype": "text/x-python",
   "name": "python",
   "nbconvert_exporter": "python",
   "pygments_lexer": "ipython3",
   "version": "3.9.16"
  },
  "toc": {
   "base_numbering": 1,
   "nav_menu": {},
   "number_sections": true,
   "sideBar": true,
   "skip_h1_title": true,
   "title_cell": "Table of Contents",
   "title_sidebar": "Contents",
   "toc_cell": true,
   "toc_position": {},
   "toc_section_display": true,
   "toc_window_display": false
  }
 },
 "nbformat": 4,
 "nbformat_minor": 5
}
